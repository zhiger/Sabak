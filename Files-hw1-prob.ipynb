{
 "cells": [
  {
   "cell_type": "markdown",
   "metadata": {},
   "source": [
    "### Файлы: Введение [Домашнее задание]"
   ]
  },
  {
   "cell_type": "markdown",
   "metadata": {},
   "source": [
    "Пожалуйста, создайте новый файл и напишите в нем текст (с несколькими строками более 5).\n",
    "Закройте файл. \n",
    "\n",
    "Откройте файл в разных режимах и поиграйте с ним. Проверьте все возможные ограничения."
   ]
  },
  {
   "cell_type": "code",
   "execution_count": 11,
   "metadata": {},
   "outputs": [],
   "source": [
    "import os\n",
    "file = open(\"new_file.txt\",\"w\")\n",
    "# Напишите свой код здесь:\n",
    "new_text = input(\"Введите текст: \")\n",
    "\n",
    "# file.writable() - это метод, который позволяет проверить, можно ли записывать данные в файл.\n",
    "if file.writable():\n",
    "    file.write(new_text)\n",
    "\n",
    "# file.writelines() - это метод, который позволяет записывать последовательность строк в файл.\n",
    "lines = ['\\nЗапись в файл\\n', 'Запись в файл\\n', 'Запись в файл\\n', 'Запись в файл\\n', 'Запись в файл']\n",
    "file.writelines(lines)\n",
    "# конец вашего кода\n",
    "file.close()\n",
    "\n",
    "os.startfile(\"new_file.txt\")"
   ]
  },
  {
   "cell_type": "code",
   "execution_count": 18,
   "metadata": {
    "scrolled": true
   },
   "outputs": [],
   "source": [
    "file = open(\"new_file.txt\",\"r\")\n",
    "# Напишите свой код здесь:\n",
    "\n",
    "# print(file.read())\n",
    "\n",
    "# file.readline() - это метод, который позволяет читать содержимое файла построчно.\n",
    "# print(file.readline())\n",
    "\n",
    "# file.readable() - это метод, который позволяет проверить, можно ли читать данные из файла.\n",
    "# if file.readable(): print(file.read())\n",
    "\n",
    "# file.readlines() - это метод, который позволяет читать все строки файла одновременно и возвращать их в виде списка.\n",
    "lines = file.readlines()\n",
    "print(lines)\n",
    "for line in lines:\n",
    "    print(line)\n",
    "\n",
    "# конец вашего кода\n",
    "file.close()"
   ]
  },
  {
   "cell_type": "code",
   "execution_count": 25,
   "metadata": {},
   "outputs": [],
   "source": [
    "import os\n",
    "\n",
    "# file = open(\"new_file.txt\",\"a\")\n",
    "# file.write('\\nPython 3.11.11\\n')\n",
    "# file.close()\n",
    "\n",
    "with open('new_file.txt', 'a') as f:\n",
    "    f.write('This is a new line\\n')\n",
    "\n",
    "os.startfile(\"new_file.txt\")\n"
   ]
  }
 ],
 "metadata": {
  "kernelspec": {
   "display_name": "Python 3",
   "language": "python",
   "name": "python3"
  },
  "language_info": {
   "codemirror_mode": {
    "name": "ipython",
    "version": 3
   },
   "file_extension": ".py",
   "mimetype": "text/x-python",
   "name": "python",
   "nbconvert_exporter": "python",
   "pygments_lexer": "ipython3",
   "version": "3.7.3"
  }
 },
 "nbformat": 4,
 "nbformat_minor": 2
}
