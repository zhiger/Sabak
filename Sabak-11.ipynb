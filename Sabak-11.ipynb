{
 "cells": [
  {
   "cell_type": "code",
   "execution_count": 6,
   "metadata": {
    "collapsed": false
   },
   "outputs": [
    {
     "name": "stdout",
     "output_type": "stream",
     "text": [
      "1 UDS\n"
     ]
    }
   ],
   "source": [
    "age = int(input(\"Введите ваш возраст\"))\n",
    "\n",
    "if age <=7:\n",
    "    print(\"Free\")\n",
    "elif age <= 18:\n",
    "    print(\"1 UDS\")\n",
    "elif age <= 50:\n",
    "    print(\"5 USD\")\n",
    "else:\n",
    "    print(\"2 USD\")"
   ]
  },
  {
   "cell_type": "code",
   "execution_count": 47,
   "metadata": {
    "collapsed": false
   },
   "outputs": [
    {
     "name": "stdout",
     "output_type": "stream",
     "text": [
      "Вы не выбрали класс билета\n"
     ]
    }
   ],
   "source": [
    "age = int(input(\"Введите ваш возраст\"))\n",
    "type_bilet = input(\"Выберите: Ecanom или Busines\")\n",
    "fee = None\n",
    "\n",
    "if age<=7 and type_bilet==\"ecanom\":     fee = 200\n",
    "elif age<=7 and type_bilet==\"busines\":  fee = 400\n",
    "elif age<=18 and type_bilet==\"ecanom\":  fee = 350\n",
    "elif age<=18 and type_bilet==\"busines\": fee = 700\n",
    "elif age<=50 and type_bilet==\"ecanom\":  fee = 600\n",
    "elif age<=50 and type_bilet==\"busines\": fee = 1200\n",
    "elif age>50 and type_bilet==\"ecanom\":   fee = 400\n",
    "elif age>50 and type_bilet==\"busines\":  fee = 800\n",
    "else:\n",
    "    print(\"Вы не выбрали класс билета\")\n",
    "\n",
    "if fee:\n",
    "    print(\"Вам: {0}-лет и у вас {1} класс, и стоимосьт {2} USD\".format(age,type_bilet,fee))"
   ]
  },
  {
   "cell_type": "code",
   "execution_count": null,
   "metadata": {
    "collapsed": false
   },
   "outputs": [],
   "source": []
  }
 ],
 "metadata": {
  "kernelspec": {
   "display_name": "Python 3",
   "language": "python",
   "name": "python3"
  },
  "language_info": {
   "codemirror_mode": {
    "name": "ipython",
    "version": 2
   },
   "file_extension": ".py",
   "mimetype": "text/x-python",
   "name": "python",
   "nbconvert_exporter": "python",
   "pygments_lexer": "ipython2",
   "version": "2.7.6"
  }
 },
 "nbformat": 4,
 "nbformat_minor": 0
}
