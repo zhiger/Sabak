{
 "cells": [
  {
   "cell_type": "markdown",
   "metadata": {},
   "source": [
    "### Основы: Переменные и типы [Домашнее задание]\n",
    "\n",
    "Практика использования переменных & типов."
   ]
  },
  {
   "cell_type": "markdown",
   "metadata": {},
   "source": [
    "1. Присвойте значения ```15, 2.5, \"0\", \"Brad\", \"Pitt\" , True,  False``` следующим переменным ```num1, num2, str1, str2, str3, bool1, bool2```."
   ]
  },
  {
   "cell_type": "code",
   "execution_count": 1,
   "metadata": {},
   "outputs": [
    {
     "name": "stdout",
     "output_type": "stream",
     "text": [
      "15\n",
      "2.5\n",
      "0\n",
      "Brad\n",
      "Pitt\n",
      "True\n",
      "False\n"
     ]
    }
   ],
   "source": [
    "# Начало вашего кода \n",
    "num1 = 15\n",
    "num2 = 2.5\n",
    "str1 = \"0\"\n",
    "str2 = \"Brad\"\n",
    "str3 = \"Pitt\"\n",
    "bool1 = True\n",
    "bool2 = False\n",
    "# Конец вашего кода\n",
    "print(num1)\n",
    "print(num2)\n",
    "print(str1)\n",
    "print(str2)\n",
    "print(str3)\n",
    "print(bool1)\n",
    "print(bool2)"
   ]
  },
  {
   "cell_type": "markdown",
   "metadata": {},
   "source": [
    "### Ожидаемый результат:\n",
    "```\n",
    "15\n",
    "2.5\n",
    "0\n",
    "Brad\n",
    "Pitt\n",
    "True\n",
    "False\n",
    "```"
   ]
  },
  {
   "cell_type": "markdown",
   "metadata": {},
   "source": [
    "2. При помощи функции ```input()``` \n",
    "\n",
    "* попросите ввести любимый фильм и присвойте введенную информацию переменной ```fav_movie```.\n",
    "\n",
    "* попросите ввести возраст пользователя (любое число) и присвойте введенную информацию переменной ```age```. При этом конвертируйте введеную информацию в целое число, чтобы у переменной ```age``` тип был ```int```."
   ]
  },
  {
   "cell_type": "code",
   "execution_count": 2,
   "metadata": {},
   "outputs": [
    {
     "name": "stdout",
     "output_type": "stream",
     "text": [
      "Avatar <class 'str'>\n",
      "32 <class 'int'>\n"
     ]
    }
   ],
   "source": [
    "# Начало вашего кода \n",
    "fav_movie = input(\"ввести любимый фильм\")\n",
    "age = int(input(\"ввести возраст\"))\n",
    "# Конец вашего кода\n",
    "print(fav_movie, type(fav_movie))\n",
    "print(age, type(age))"
   ]
  },
  {
   "cell_type": "markdown",
   "metadata": {},
   "source": [
    "### Пример результата:\n",
    "```\n",
    "Введите ваш любимый фильм:Lord of the Rings\n",
    "Введите ваш возраст:28\n",
    "Lord of the Rings <class 'str'>\n",
    "28 <class 'str'>\n",
    "```"
   ]
  },
  {
   "cell_type": "markdown",
   "metadata": {},
   "source": [
    "### Отличная работа"
   ]
  }
 ],
 "metadata": {
  "kernelspec": {
   "display_name": "Python 3 (ipykernel)",
   "language": "python",
   "name": "python3"
  },
  "language_info": {
   "codemirror_mode": {
    "name": "ipython",
    "version": 3
   },
   "file_extension": ".py",
   "mimetype": "text/x-python",
   "name": "python",
   "nbconvert_exporter": "python",
   "pygments_lexer": "ipython3",
   "version": "3.9.13"
  }
 },
 "nbformat": 4,
 "nbformat_minor": 2
}
