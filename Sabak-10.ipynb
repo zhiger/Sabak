{
 "cells": [
  {
   "cell_type": "markdown",
   "metadata": {},
   "source": [
    "### Основы: Условный оператор [Домашнее задание]\n",
    "\n",
    "Практика использования условного оператора (if-elif-else)."
   ]
  },
  {
   "cell_type": "code",
   "execution_count": null,
   "metadata": {},
   "outputs": [],
   "source": [
    "num1 = 15\n",
    "num2 = 15.0"
   ]
  },
  {
   "cell_type": "markdown",
   "metadata": {},
   "source": [
    "### Каковы результаты следующих строк кода?\n",
    "```\n",
    "if num1 > num2:\n",
    "    print(\"{0} > {1}\".format(num1, num2))\n",
    "elif num1 < num2:\n",
    "    print(\"{0} < {1}\".format(num1, num2))\n",
    "else:\n",
    "    print(\"{0} == {1}\".format(num1, num2))\n",
    "```"
   ]
  },
  {
   "cell_type": "markdown",
   "metadata": {},
   "source": [
    "Теперь скопируйте код и выведите результаты этих операций.\n",
    "Результаты совпадают с вашими прогнозами?"
   ]
  },
  {
   "cell_type": "code",
   "execution_count": 2,
   "metadata": {},
   "outputs": [
    {
     "name": "stdout",
     "output_type": "stream",
     "text": [
      "15 == 15.0\n"
     ]
    }
   ],
   "source": [
    "num1 = 15\n",
    "num2 = 15.0\n",
    "if num1 > num2:\n",
    "    print(\"{0} > {1}\".format(num1, num2))\n",
    "elif num1 < num2:\n",
    "    print(\"{0} < {1}\".format(num1, num2))\n",
    "else:\n",
    "    print(\"{0} == {1}\".format(num1, num2))"
   ]
  },
  {
   "cell_type": "markdown",
   "metadata": {},
   "source": [
    "### Ожидаемые результаты:\n",
    "```\n",
    "15 == 15.0\n",
    "```"
   ]
  },
  {
   "cell_type": "markdown",
   "metadata": {},
   "source": [
    "**Дополнительный вопрос:** запустите код в голове (попробуйте предсказать результат), затем запустите этот код и напишите в виде коментария ответ на вопрос Почему распечаталось то что распечаталось? (Менять код нельзя)\n",
    "\n",
    "```\n",
    "str1 = \"\"\n",
    "if str1:\n",
    "    print(\"Hello World\")\n",
    "else:\n",
    "    print(\"Error\")\n",
    "```"
   ]
  },
  {
   "cell_type": "code",
   "execution_count": 3,
   "metadata": {},
   "outputs": [
    {
     "name": "stdout",
     "output_type": "stream",
     "text": [
      "Error\n"
     ]
    }
   ],
   "source": [
    "str1 = \"\"\n",
    "if str1:\n",
    "    print(\"Hello World\")\n",
    "else:\n",
    "    print(\"Error\")"
   ]
  },
  {
   "cell_type": "code",
   "execution_count": null,
   "metadata": {
    "collapsed": false
   },
   "outputs": [],
   "source": [
    "# значение str1 это ноль а ноль это false"
   ]
  }
 ],
 "metadata": {
  "kernelspec": {
   "display_name": "Python 3 (ipykernel)",
   "language": "python",
   "name": "python3"
  },
  "language_info": {
   "codemirror_mode": {
    "name": "ipython",
    "version": 3
   },
   "file_extension": ".py",
   "mimetype": "text/x-python",
   "name": "python",
   "nbconvert_exporter": "python",
   "pygments_lexer": "ipython3",
   "version": "3.9.13"
  }
 },
 "nbformat": 4,
 "nbformat_minor": 2
}
