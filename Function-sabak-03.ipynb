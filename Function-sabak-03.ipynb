{
 "cells": [
  {
   "cell_type": "code",
   "execution_count": null,
   "metadata": {},
   "outputs": [],
   "source": [
    "def polynomial(n, coef):\n",
    "    # Начало вашего кода    \n",
    "    def pol2(x):\n",
    "        y = 0\n",
    "        for j in range(n+1):\n",
    "            y += coef[j] * (x**j)\n",
    "        return y\n",
    "    return pol2\n",
    "    # Конец вашего кода"
   ]
  },
  {
   "cell_type": "code",
   "execution_count": null,
   "metadata": {},
   "outputs": [],
   "source": [
    "n = 2\n",
    "coef = [1,2,3]\n",
    "pol2 = polynomial(n=n, coef=coef)\n",
    "print(type(pol2))\n",
    "for i in range(3):\n",
    "    print(pol2(i))"
   ]
  }
 ],
 "metadata": {
  "language_info": {
   "name": "python"
  },
  "orig_nbformat": 4
 },
 "nbformat": 4,
 "nbformat_minor": 2
}
