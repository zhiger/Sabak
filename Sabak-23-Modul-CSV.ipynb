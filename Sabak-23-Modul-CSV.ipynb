{
 "cells": [
  {
   "cell_type": "code",
   "execution_count": 1,
   "metadata": {
    "collapsed": true
   },
   "outputs": [
    {
     "name": "stdout",
     "output_type": "stream",
     "text": [
      "['Year', 'Industry_aggregation_NZSIOC', 'Industry_code_NZSIOC', 'Industry_name_NZSIOC', 'Units', 'Variable_code', 'Variable_name', 'Variable_category', 'Value', 'Industry_code_ANZSIC06']\n"
     ]
    }
   ],
   "source": [
    "import csv\n",
    "import os\n",
    "\n",
    "with open(\"./Downlowd/annual-enterprise-survey-2018-financial-year-provisional-csv.csv\", 'r') as file:\n",
    "    reader = csv.reader(file)\n",
    "    data = [ value for value in reader]\n",
    "    header = data[0]\n",
    "    data = data[1:]\n"
   ]
  },
  {
   "cell_type": "code",
   "execution_count": 4,
   "metadata": {},
   "outputs": [
    {
     "name": "stdout",
     "output_type": "stream",
     "text": [
      "['Year', 'Industry_aggregation_NZSIOC', 'Industry_code_NZSIOC', 'Industry_name_NZSIOC', 'Units', 'Variable_code', 'Variable_name', 'Variable_category', 'Value', 'Industry_code_ANZSIC06']\n",
      "['2018', 'Level 1', '99999', 'All industries', 'Dollars (millions)', 'H01', 'Total income', 'Financial performance', '691859', 'ANZSIC06 divisions A-S (excluding classes K6330, L6711, O7552, O760, O771, O772, S9540, S9601, S9602, and S9603)']\n",
      "['2018', 'Level 1', '99999', 'All industries', 'Dollars (millions)', 'H04', 'Sales, government funding, grants and subsidies', 'Financial performance', '605766', 'ANZSIC06 divisions A-S (excluding classes K6330, L6711, O7552, O760, O771, O772, S9540, S9601, S9602, and S9603)']\n",
      "['2018', 'Level 1', '99999', 'All industries', 'Dollars (millions)', 'H05', 'Interest, dividends and donations', 'Financial performance', '63509', 'ANZSIC06 divisions A-S (excluding classes K6330, L6711, O7552, O760, O771, O772, S9540, S9601, S9602, and S9603)']\n",
      "['2018', 'Level 1', '99999', 'All industries', 'Dollars (millions)', 'H07', 'Non-operating income', 'Financial performance', '22583', 'ANZSIC06 divisions A-S (excluding classes K6330, L6711, O7552, O760, O771, O772, S9540, S9601, S9602, and S9603)']\n",
      "['2018', 'Level 1', '99999', 'All industries', 'Dollars (millions)', 'H08', 'Total expenditure', 'Financial performance', '597623', 'ANZSIC06 divisions A-S (excluding classes K6330, L6711, O7552, O760, O771, O772, S9540, S9601, S9602, and S9603)']\n",
      "['2018', 'Level 1', '99999', 'All industries', 'Dollars (millions)', 'H09', 'Interest and donations', 'Financial performance', '34223', 'ANZSIC06 divisions A-S (excluding classes K6330, L6711, O7552, O760, O771, O772, S9540, S9601, S9602, and S9603)']\n",
      "['2018', 'Level 1', '99999', 'All industries', 'Dollars (millions)', 'H10', 'Indirect taxes', 'Financial performance', '7124', 'ANZSIC06 divisions A-S (excluding classes K6330, L6711, O7552, O760, O771, O772, S9540, S9601, S9602, and S9603)']\n",
      "['2018', 'Level 1', '99999', 'All industries', 'Dollars (millions)', 'H11', 'Depreciation', 'Financial performance', '19863', 'ANZSIC06 divisions A-S (excluding classes K6330, L6711, O7552, O760, O771, O772, S9540, S9601, S9602, and S9603)']\n",
      "['2018', 'Level 1', '99999', 'All industries', 'Dollars (millions)', 'H12', 'Salaries and wages paid', 'Financial performance', '106351', 'ANZSIC06 divisions A-S (excluding classes K6330, L6711, O7552, O760, O771, O772, S9540, S9601, S9602, and S9603)']\n",
      "['2018', 'Level 1', '99999', 'All industries', 'Dollars (millions)', 'H13', 'Redundancy and severance', 'Financial performance', '297', 'ANZSIC06 divisions A-S (excluding classes K6330, L6711, O7552, O760, O771, O772, S9540, S9601, S9602, and S9603)']\n"
     ]
    }
   ],
   "source": [
    "print(header)\n",
    "for i in data[:10]:\n",
    "\tprint(i)"
   ]
  }
 ],
 "metadata": {
  "kernelspec": {
   "display_name": "Python 3",
   "language": "python",
   "name": "python3"
  },
  "language_info": {
   "codemirror_mode": {
    "name": "ipython",
    "version": 3
   },
   "file_extension": ".py",
   "mimetype": "text/x-python",
   "name": "python",
   "nbconvert_exporter": "python",
   "pygments_lexer": "ipython3",
   "version": "3.10.9"
  }
 },
 "nbformat": 4,
 "nbformat_minor": 0
}
