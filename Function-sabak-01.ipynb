{
 "cells": [
  {
   "cell_type": "code",
   "execution_count": null,
   "metadata": {},
   "outputs": [],
   "source": [
    "def sum_integers(a, b):\n",
    "    return sum(range(a, b+1))\n",
    "\n",
    "print(sum_integers(3,5))\n",
    "print(sum_integers(0,10))"
   ]
  }
 ],
 "metadata": {
  "language_info": {
   "name": "python"
  },
  "orig_nbformat": 4
 },
 "nbformat": 4,
 "nbformat_minor": 2
}
