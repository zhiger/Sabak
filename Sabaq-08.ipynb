{
 "cells": [
  {
   "cell_type": "markdown",
   "metadata": {},
   "source": [
    "**1) При помощи функции ```input()``` попросите пользователя ввести имя и фамилию, введенные данные должны быть присвоины переменной ```info```.**"
   ]
  },
  {
   "cell_type": "code",
   "execution_count": 2,
   "metadata": {},
   "outputs": [
    {
     "name": "stdout",
     "output_type": "stream",
     "text": [
      "zhiger\n"
     ]
    }
   ],
   "source": [
    "info = str(input(\"ввести имя и фамилию\"))\n",
    "print(info)"
   ]
  },
  {
   "cell_type": "markdown",
   "metadata": {},
   "source": [
    "**2) Напишите по одному выражению равное ```65``` для каждого арифметического оператора ```+ - * / // %```.**\n",
    "\n",
    "Например: \n",
    "```python\n",
    "print(50+15)\n",
    "print(72-7)\n",
    "print(10 * 6 + 5)\n",
    "```\n",
    "\n"
   ]
  },
  {
   "cell_type": "code",
   "execution_count": 8,
   "metadata": {},
   "outputs": [
    {
     "name": "stdout",
     "output_type": "stream",
     "text": [
      "65\n",
      "65\n",
      "65\n",
      "75.0\n"
     ]
    }
   ],
   "source": [
    "print(45+20)\n",
    "print(135-70)\n",
    "print(30*2 + 10//2)"
   ]
  },
  {
   "cell_type": "markdown",
   "metadata": {},
   "source": [
    "**2) Напишите ОДНО выражение, где вы используете ```+ - * /```, равное 70.25.**\n",
    "\n",
    "Пример:\n",
    "```python\n",
    "print(11 + 12*5 - 3/4)\n",
    "```"
   ]
  },
  {
   "cell_type": "code",
   "execution_count": 12,
   "metadata": {},
   "outputs": [
    {
     "name": "stdout",
     "output_type": "stream",
     "text": [
      "70.75\n"
     ]
    }
   ],
   "source": [
    "print(2*15+41.5-3/4)"
   ]
  },
  {
   "cell_type": "markdown",
   "metadata": {},
   "source": [
    "**4) Какой тип имеет результат выражения ```3 + 1.5 + 4``` ?**"
   ]
  },
  {
   "cell_type": "code",
   "execution_count": null,
   "metadata": {},
   "outputs": [],
   "source": [
    "float"
   ]
  },
  {
   "cell_type": "markdown",
   "metadata": {},
   "source": [
    "**4) При помощи функции ```input()``` введите любое число (не обязательно целое) присвойте это значение переменной ```num```.**\n",
    "\n",
    "Затем распечатайте:\n",
    "\n",
    "* ```num``` возведенный в квадрат\n",
    "\n",
    "* ```num``` в квадратный корне (используйте арифметический оператор степени)\n",
    "\n",
    "Пример: если ввести 5, результат должен быть следующим:\n",
    "\n",
    "```\n",
    "25.0\n",
    "2.23606797749979\n",
    "```"
   ]
  },
  {
   "cell_type": "code",
   "execution_count": 18,
   "metadata": {},
   "outputs": [
    {
     "name": "stdout",
     "output_type": "stream",
     "text": [
      "81\n",
      "3.0\n"
     ]
    }
   ],
   "source": [
    "num = int(input(\"введите любое число\"))\n",
    "print(num**2)\n",
    "print(num**0.5)"
   ]
  },
  {
   "cell_type": "markdown",
   "metadata": {},
   "source": [
    "**5) Какой остаток дает число**\n",
    "\n",
    "* ```100``` при делении на ```7```?\n",
    "\n",
    "* ```4``` при делении на ```100```?\n",
    "\n",
    "* ```9``` при делении на ```2```?\n",
    "\n",
    "* ```8``` при делении на ```3```?\n",
    "\n",
    "* ```142``` при делении на ```10```?"
   ]
  },
  {
   "cell_type": "markdown",
   "metadata": {
    "collapsed": false
   },
   "source": []
  },
  {
   "cell_type": "code",
   "execution_count": 1,
   "metadata": {},
   "outputs": [
    {
     "name": "stdout",
     "output_type": "stream",
     "text": [
      "2 4 1 2 2\n"
     ]
    }
   ],
   "source": [
    "print(100%7, 4%100 , 9%2, 8%3, 142%10) # 14.285714285714286 0.04 4.5 2.6666666666666665 14.2"
   ]
  },
  {
   "cell_type": "markdown",
   "metadata": {},
   "source": [
    "**6) Какой результат**\n",
    "\n",
    "* ```7``` в степени ```3-й```?\n",
    "\n",
    "* ```0.5``` в степени ```2``` ?\n",
    "\n",
    "* ```4``` в степени ```1/2``` ?\n",
    "\n",
    "* ```27``` в степени ```1/3``` ?"
   ]
  },
  {
   "cell_type": "code",
   "execution_count": 25,
   "metadata": {},
   "outputs": [
    {
     "name": "stdout",
     "output_type": "stream",
     "text": [
      "343 0.25 2.0 3.0\n"
     ]
    }
   ],
   "source": [
    "print(7**3, 0.5**2, 4**(1/2), 27**(1/3)) # 343 0.25 2.0 3.0"
   ]
  },
  {
   "cell_type": "markdown",
   "metadata": {},
   "source": [
    "**7) При помощи функции ```input()``` попросите пользователя ввести первое число (не обязательно целое) и присвойте введенное число переменной ```num1```, затем при помощи функции ```input()``` попросите пользователя ввести второе число (обязательно целое) и присвойте введенное число переменной ```num2```**\n",
    "\n",
    "* Распечатайте сумму введенных пользователем чисел\n",
    "\n",
    "* Распечатайте разницу между первый и вторым числом\n",
    "\n",
    "* Третья строка содержит произведение двух чисел"
   ]
  },
  {
   "cell_type": "code",
   "execution_count": 27,
   "metadata": {},
   "outputs": [
    {
     "name": "stdout",
     "output_type": "stream",
     "text": [
      "11\n",
      "-1\n",
      "30\n"
     ]
    }
   ],
   "source": [
    "num1 = int(input(\"ввести первое число\"))\n",
    "num2 = int(input(\"ввести второе число\"))\n",
    "print(num1+num2)\n",
    "print(num1-num2)\n",
    "print(num1*num2)"
   ]
  },
  {
   "cell_type": "markdown",
   "metadata": {},
   "source": [
    "**8) При помощи функции ```input()``` попросите пользователя ввести первое число (не обязательно целое) и присвойте введенное число переменной ```num1```, затем при помощи функции ```input()``` попросите пользователя ввести второе число (обязательно целое) и присвойте введенное число переменной ```num2```**\n",
    "\n",
    "* Распечатайте результат деления ```num1``` на ```num2```(оператор ```/```)\n",
    "\n",
    "* Распечатайте результат целочисленного деления ```num1``` на ```num2```(оператор ```//```)"
   ]
  },
  {
   "cell_type": "code",
   "execution_count": 29,
   "metadata": {},
   "outputs": [
    {
     "name": "stdout",
     "output_type": "stream",
     "text": [
      "2.0\n",
      "2\n",
      "0\n"
     ]
    }
   ],
   "source": [
    "num1 = int(input(\"ввести первое число\"))\n",
    "num2 = int(input(\"ввести второе число\"))\n",
    "print(num1 / num2)\n",
    "print(num1 // num2)\n",
    "print(num1 % num2)"
   ]
  },
  {
   "cell_type": "markdown",
   "metadata": {},
   "source": [
    "**9) Присвойте переменной ```three_dig```  значение 173. Разложите переменную ```three_dig``` на цифры ```1```, ```7```, ```3``` и присвойте эти цифры переменным ```first```, ```second```, ```third```.**\n",
    "\n",
    "Используйте только арифсетические операторы чтобы решить задачу\n",
    "\n",
    "\n"
   ]
  },
  {
   "cell_type": "code",
   "execution_count": 3,
   "metadata": {},
   "outputs": [
    {
     "name": "stdout",
     "output_type": "stream",
     "text": [
      "2\n",
      "3\n",
      "4\n"
     ]
    }
   ],
   "source": [
    "three_dig=234\n",
    "\n",
    "first =  three_dig // 100\n",
    "second = three_dig // 10 % 10\n",
    "thrid =  three_dig % 10\n",
    "\n",
    "print(first)\n",
    "print(second)\n",
    "print(thrid)"
   ]
  },
  {
   "cell_type": "markdown",
   "metadata": {},
   "source": [
    "# Прекрасная работа!"
   ]
  }
 ],
 "metadata": {
  "kernelspec": {
   "display_name": "Python 3 (ipykernel)",
   "language": "python",
   "name": "python3"
  },
  "language_info": {
   "codemirror_mode": {
    "name": "ipython",
    "version": 3
   },
   "file_extension": ".py",
   "mimetype": "text/x-python",
   "name": "python",
   "nbconvert_exporter": "python",
   "pygments_lexer": "ipython3",
   "version": "3.9.13"
  }
 },
 "nbformat": 4,
 "nbformat_minor": 2
}
