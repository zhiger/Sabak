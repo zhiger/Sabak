{
 "cells": [
  {
   "cell_type": "code",
   "execution_count": 1,
   "metadata": {},
   "outputs": [],
   "source": [
    "class Person:\n",
    "    count = 0\n",
    "\n",
    "    def __init__(self, name, family_name, age, occupation, nationality):\n",
    "        self.name = name\n",
    "        self.family_name = family_name\n",
    "        self.age = age\n",
    "        self.occupation = occupation\n",
    "        self.nationality = nationality\n",
    "        Person.count += 1\n",
    "\n",
    "    def get_name(self):\n",
    "        return self.name + \" \" + self.family_name\n",
    "\n",
    "    def get_age(self):\n",
    "        return self.age\n",
    "\n",
    "    def get_nationality(self):\n",
    "        return self.nationality\n",
    "\n",
    "    def get_occupation(self):\n",
    "        return self.occupation\n",
    "\n",
    "    def year_born(self, cur_year):\n",
    "        return cur_year - self.age"
   ]
  },
  {
   "cell_type": "code",
   "execution_count": 2,
   "metadata": {},
   "outputs": [],
   "source": [
    "person1 = Person(name=\"Brad\", family_name=\"Pitt\", age=50, occupation=\"actor\", nationality=\"American\")"
   ]
  },
  {
   "cell_type": "code",
   "execution_count": 3,
   "metadata": {},
   "outputs": [
    {
     "name": "stdout",
     "output_type": "stream",
     "text": [
      "Brad Pitt was born in 1969\n"
     ]
    }
   ],
   "source": [
    "year_born = person1.year_born(cur_year=2019)\n",
    "print(person1.name, person1.family_name, \"was born in\", year_born)"
   ]
  }
 ],
 "metadata": {
  "kernelspec": {
   "display_name": "base",
   "language": "python",
   "name": "python3"
  },
  "language_info": {
   "codemirror_mode": {
    "name": "ipython",
    "version": 3
   },
   "file_extension": ".py",
   "mimetype": "text/x-python",
   "name": "python",
   "nbconvert_exporter": "python",
   "pygments_lexer": "ipython3",
   "version": "3.10.9"
  },
  "orig_nbformat": 4
 },
 "nbformat": 4,
 "nbformat_minor": 2
}
