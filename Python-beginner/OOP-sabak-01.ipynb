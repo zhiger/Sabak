{
 "cells": [
  {
   "cell_type": "code",
   "execution_count": 1,
   "metadata": {},
   "outputs": [],
   "source": [
    "class Car:\n",
    "    # Начало вашего кода\n",
    "    model = None\n",
    "    engine = None\n",
    "    year = None\n",
    "   \n",
    "    def start_car(self):\n",
    "        print(self.model,'with', self.engine, 'engine of', self.year, 'id started')\n",
    "\n",
    "    def stop_car(self):\n",
    "        print(self.model,'with', self.engine, 'engine of', self.year, 'id stopped')\n",
    "    # Конец вашего кода"
   ]
  },
  {
   "cell_type": "code",
   "execution_count": 2,
   "metadata": {},
   "outputs": [],
   "source": [
    "audi = Car()\n",
    "audi.model = \"Audi A4\"\n",
    "audi.engine = \"1.8-litre 20v\"\n",
    "audi.year = 2011"
   ]
  },
  {
   "cell_type": "code",
   "execution_count": 3,
   "metadata": {},
   "outputs": [
    {
     "name": "stdout",
     "output_type": "stream",
     "text": [
      "Audi A4 with 1.8-litre 20v engine of 2011 id started\n",
      "Audi A4 with 1.8-litre 20v engine of 2011 id stopped\n"
     ]
    }
   ],
   "source": [
    "audi.start_car()\n",
    "audi.stop_car()"
   ]
  }
 ],
 "metadata": {
  "kernelspec": {
   "display_name": "base",
   "language": "python",
   "name": "python3"
  },
  "language_info": {
   "codemirror_mode": {
    "name": "ipython",
    "version": 3
   },
   "file_extension": ".py",
   "mimetype": "text/x-python",
   "name": "python",
   "nbconvert_exporter": "python",
   "pygments_lexer": "ipython3",
   "version": "3.10.9"
  },
  "orig_nbformat": 4
 },
 "nbformat": 4,
 "nbformat_minor": 2
}
