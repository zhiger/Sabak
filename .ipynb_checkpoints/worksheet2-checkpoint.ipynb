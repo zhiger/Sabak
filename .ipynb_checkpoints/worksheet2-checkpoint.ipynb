{
 "cells": [
  {
   "cell_type": "markdown",
   "metadata": {},
   "source": [
    "**Напечатайте свое имя и фамилию**"
   ]
  },
  {
   "cell_type": "markdown",
   "metadata": {},
   "source": [
    "# СТРОКИ"
   ]
  },
  {
   "cell_type": "markdown",
   "metadata": {},
   "source": [
    "1) Учитывая строку \"Able\", дайте команду index, которая возвращает 'e'. Введите свой код в ячейку ниже:"
   ]
  },
  {
   "cell_type": "code",
   "execution_count": 1,
   "metadata": {},
   "outputs": [
    {
     "name": "stdout",
     "output_type": "stream",
     "text": [
      "3\n",
      "9\n"
     ]
    }
   ],
   "source": [
    "s = \"Able Academy\"\n",
    "# Распечатайте «е» с использованием индексирование\n",
    "for index in range(len(s)): # 0, 1, 2, 3\n",
    "    if s[index] == \"e\":\n",
    "        print(index)"
   ]
  },
  {
   "cell_type": "code",
   "execution_count": 2,
   "metadata": {
    "collapsed": false
   },
   "outputs": [
    {
     "name": "stdout",
     "output_type": "stream",
     "text": [
      "3\n",
      "9\n"
     ]
    }
   ],
   "source": [
    "s = \"Able Academy\"\n",
    "for x, y in enumerate(s):\n",
    "    if y == \"e\":\n",
    "        print(x)"
   ]
  },
  {
   "cell_type": "markdown",
   "metadata": {},
   "source": [
    "2) Переверните строку \"Able\""
   ]
  },
  {
   "cell_type": "code",
   "execution_count": 3,
   "metadata": {},
   "outputs": [
    {
     "name": "stdout",
     "output_type": "stream",
     "text": [
      "elbA\n"
     ]
    }
   ],
   "source": [
    "s = \"Able\"\n",
    "# Переверните строку \"Able\"\n",
    "print(s[::-1])"
   ]
  },
  {
   "cell_type": "markdown",
   "metadata": {},
   "source": [
    "3) Учитывая строку \"Able\", приведите два метода получения буквы 'l' с использованием индексации."
   ]
  },
  {
   "cell_type": "code",
   "execution_count": 11,
   "metadata": {},
   "outputs": [
    {
     "name": "stdout",
     "output_type": "stream",
     "text": [
      "l\n",
      "с использованием индекса l\n"
     ]
    }
   ],
   "source": [
    "# Распечатайте «l»\n",
    "# Метод 1\n",
    "s = \"Able\"\n",
    "for x, y in enumerate(s):\n",
    "    if y == \"l\":\n",
    "        print(y)\n",
    "\n",
    "for x, y in enumerate(s):\n",
    "    if x == 2:\n",
    "        print(\"с использованием индекса\",y)"
   ]
  },
  {
   "cell_type": "code",
   "execution_count": 15,
   "metadata": {},
   "outputs": [
    {
     "name": "stdout",
     "output_type": "stream",
     "text": [
      "l\n"
     ]
    }
   ],
   "source": [
    "# Метод 2\n",
    "s = \"Able\"\n",
    "for i, n in zip(s, range(len(s))):\n",
    "    if i == \"l\" and n == 2:\n",
    "        print(i)"
   ]
  },
  {
   "cell_type": "markdown",
   "metadata": {},
   "source": [
    "4) Какова длина строки \"Able\"?"
   ]
  },
  {
   "cell_type": "code",
   "execution_count": 16,
   "metadata": {},
   "outputs": [
    {
     "name": "stdout",
     "output_type": "stream",
     "text": [
      "4\n"
     ]
    }
   ],
   "source": [
    "# Код\n",
    "s = \"Able\"\n",
    "print(len(s))"
   ]
  },
  {
   "cell_type": "markdown",
   "metadata": {},
   "source": [
    "# СПИСКИ"
   ]
  },
  {
   "cell_type": "markdown",
   "metadata": {},
   "source": [
    "5) Постройте этот список [7,7,7] двумя разными способами."
   ]
  },
  {
   "cell_type": "code",
   "execution_count": 21,
   "metadata": {},
   "outputs": [
    {
     "name": "stdout",
     "output_type": "stream",
     "text": [
      "[7, 7, 7]\n"
     ]
    }
   ],
   "source": [
    "# Метод 1\n",
    "my_list = list([7]*3)\n",
    "print(my_list)"
   ]
  },
  {
   "cell_type": "code",
   "execution_count": 22,
   "metadata": {},
   "outputs": [
    {
     "name": "stdout",
     "output_type": "stream",
     "text": [
      "[7, 7, 7]\n"
     ]
    }
   ],
   "source": [
    "# Метод 2\n",
    "my_list = []\n",
    "for i in range(3):\n",
    "    my_list.append(7)\n",
    "print(my_list)\n"
   ]
  },
  {
   "cell_type": "markdown",
   "metadata": {},
   "source": [
    "6) Переназначить «Able» в этом вложенном списке, чтобы вместо этого сказать «Academy»:"
   ]
  },
  {
   "cell_type": "code",
   "execution_count": 50,
   "metadata": {},
   "outputs": [
    {
     "name": "stdout",
     "output_type": "stream",
     "text": [
      "[1, 2, [3, 4, 'Academy']]\n"
     ]
    }
   ],
   "source": [
    "list_1 = [1,2,[3,4,'Able']]\n",
    "# list_1[2].pop()\n",
    "# list_1[2].insert(2, 'Academy')\n",
    "# print(list_1)\n",
    "# Код\n",
    "for i in range(len(list_1)):\n",
    "    if type(list_1[i]) == list:\n",
    "        for j in range(len(list_1[i])):\n",
    "            #if type(list_1[i][j]) == str: list_1[i][j] = \"Academy\"\n",
    "            if list_1[i][j] == \"Able\":\n",
    "                list_1[i].insert(j, 'Academy')\n",
    "                list_1[i].pop()\n",
    "print(list_1)"
   ]
  },
  {
   "cell_type": "markdown",
   "metadata": {},
   "source": [
    "7) Сортировать список ниже:"
   ]
  },
  {
   "cell_type": "code",
   "execution_count": 51,
   "metadata": {},
   "outputs": [
    {
     "name": "stdout",
     "output_type": "stream",
     "text": [
      "[1, 3, 4, 5, 6]\n"
     ]
    }
   ],
   "source": [
    "list_2 = [5,3,4,6,1]\n",
    "# Код\n",
    "list_2.sort()\n",
    "print(list_2)"
   ]
  },
  {
   "cell_type": "markdown",
   "metadata": {},
   "source": [
    "# СЛОВАРИ"
   ]
  },
  {
   "cell_type": "markdown",
   "metadata": {},
   "source": [
    "8) Используя ключи и индексирование, выводите «Able» из следующих словарей:"
   ]
  },
  {
   "cell_type": "code",
   "execution_count": 78,
   "metadata": {},
   "outputs": [
    {
     "name": "stdout",
     "output_type": "stream",
     "text": [
      "(0, 'Able')\n",
      "Able\n"
     ]
    }
   ],
   "source": [
    "d = {'simple_key':'Able'}\n",
    "# Код\n",
    "for n in enumerate(d.values()): print(n)\n",
    "for i in d.keys(): print(d[i])"
   ]
  },
  {
   "cell_type": "code",
   "execution_count": 87,
   "metadata": {},
   "outputs": [
    {
     "name": "stdout",
     "output_type": "stream",
     "text": [
      "k1 => {'k2': 'Able'}\n",
      "k2 => Able\n",
      "Able\n"
     ]
    }
   ],
   "source": [
    "d = {'k1':{'k2':'Able'}}\n",
    "# Код\n",
    "for i, v in zip(d.keys(),d.values()):\n",
    "    print(i,'=>',v)\n",
    "    for n,m in v.items():\n",
    "        print(n,'=>',m)\n",
    "        print(m)"
   ]
  },
  {
   "cell_type": "code",
   "execution_count": 85,
   "metadata": {},
   "outputs": [],
   "source": [
    "d = {'k1':[{'k2':['k3',['Able']]}]}\n",
    "# Код\n",
    "for key1, value1 in d.items():\n",
    "    if isinstance(value1, list):\n",
    "        print(key1,'=>',value1)\n",
    "        for i in range(len(value1)):\n",
    "            print(value1[i])\n",
    "            for key2, value2  in value1[i].items():\n",
    "                print(key2,'=>',value2)\n",
    "                for j in range(len(value2)):\n",
    "                    # print(value2[j])\n",
    "                    if type(value2[j]) == list:\n",
    "                        print(*value2[j])\n",
    "                    else:\n",
    "                        print(value2[j])"
   ]
  },
  {
   "cell_type": "code",
   "execution_count": 1,
   "metadata": {},
   "outputs": [
    {
     "name": "stdout",
     "output_type": "stream",
     "text": [
      "Able\n"
     ]
    }
   ],
   "source": [
    "d = {'k1':[1,2,{'k2':['k3',{'k4':[1,2,['Able']]}]}]}\n",
    "# Код\n",
    "# for key1, value1 in d.items():\n",
    "#     if isinstance(value1, list) or isinstance(value1, tuple):\n",
    "#         print(value1)\n",
    "#         for i in range(len(value1)):\n",
    "#             if isinstance(value1[i], list) or isinstance(value1[i], tuple):\n",
    "#                 print(*value1[i])\n",
    "#             elif isinstance(value1[i], dict):\n",
    "#                 print(value1[i])\n",
    "#                 for key2, value2 in value1[i].items():\n",
    "#                     if isinstance(value2, list) or isinstance(value2, tuple):\n",
    "#                         print(value2)\n",
    "#                         for j in range(len(value2)):\n",
    "#                             if isinstance(value2[j], list) or isinstance(value2[j], tuple):\n",
    "#                                 print(*value2[j])\n",
    "#                             elif isinstance(value2[j], dict):\n",
    "#                                 print(value2[j])\n",
    "#                                 for key3, value3 in value2[j].items():\n",
    "#                                     for k in range(len(value3)):\n",
    "#                                         if isinstance(value3[k], list) or isinstance(value3[k], tuple):\n",
    "#                                             print(*value3[k])\n",
    "\n",
    "for key1, value1 in d.items():\n",
    "    for i in range(len(value1)):\n",
    "        if isinstance(value1[i], dict):\n",
    "            for key2, value2 in value1[i].items():\n",
    "                for j in range(len(value2)):\n",
    "                    if isinstance(value2[j], dict):\n",
    "                        for key3, value3 in value2[j].items():\n",
    "                            for k in range(len(value3)):\n",
    "                                if isinstance(value3[k], list):\n",
    "                                    print(*value3[k])"
   ]
  },
  {
   "cell_type": "markdown",
   "metadata": {},
   "source": [
    "9) Вы можете отсортировать словарь? Почему или почему нет?"
   ]
  },
  {
   "cell_type": "code",
   "execution_count": 3,
   "metadata": {
    "collapsed": false
   },
   "outputs": [
    {
     "name": "stdout",
     "output_type": "stream",
     "text": [
      "['a', 'c', 'f', 'n', 'z']\n",
      "[2, 3, 11, 14, 101]\n"
     ]
    }
   ],
   "source": [
    "\"\"\" Да можно по умолчанию по ключам, но также можно и по значением \"\"\"\n",
    "D = {'a': 11, 'z': 2, 'n': 14, 'f': 101, 'c': 3}\n",
    "print(sorted(D))\n",
    "print(sorted(D.values()))"
   ]
  },
  {
   "cell_type": "markdown",
   "metadata": {},
   "source": [
    "# КОРТЕЖИ"
   ]
  },
  {
   "cell_type": "markdown",
   "metadata": {},
   "source": [
    "10) В чем основное различие между кортежами и списками?"
   ]
  },
  {
   "cell_type": "code",
   "execution_count": null,
   "metadata": {},
   "outputs": [],
   "source": [
    "# Ответ:\n",
    "# Кортежи занимают меньше места.\n",
    "# Кортежи неизменяемы\n",
    "# Списки же можно изменять\n",
    "# Списки особенно удобны для хранения в них объектов в определенном порядке,особенно если порядок или содержимое нужнобудет изменить."
   ]
  },
  {
   "cell_type": "markdown",
   "metadata": {},
   "source": [
    "11) Как вы создаете кортеж? Приведите пример"
   ]
  },
  {
   "cell_type": "code",
   "execution_count": null,
   "metadata": {},
   "outputs": [],
   "source": [
    "# Код\n",
    "words = ('fresh','out', 'of', 'ideas')"
   ]
  },
  {
   "cell_type": "markdown",
   "metadata": {},
   "source": [
    "# МНОЖЕСТВА"
   ]
  },
  {
   "cell_type": "markdown",
   "metadata": {},
   "source": [
    "12) Что уникального во множестве?"
   ]
  },
  {
   "cell_type": "code",
   "execution_count": null,
   "metadata": {
    "collapsed": false
   },
   "outputs": [],
   "source": [
    "Множество#%% md\n",
    "**Напечатайте свое имя и фамилию**"
   ]
  },
  {
   "cell_type": "markdown",
   "metadata": {
    "collapsed": false
   },
   "source": [
    "# СТРОКИ"
   ]
  },
  {
   "cell_type": "markdown",
   "metadata": {
    "collapsed": false
   },
   "source": [
    "1) Учитывая строку \"Able\", дайте команду index, которая возвращает 'e'. Введите свой код в ячейку ниже:"
   ]
  },
  {
   "cell_type": "code",
   "execution_count": null,
   "metadata": {
    "collapsed": false
   },
   "outputs": [],
   "source": [
    "s = \"Able Academy\"\n",
    "# Распечатайте «е» с использованием индексирование\n",
    "for index in range(len(s)): # 0, 1, 2, 3\n",
    "    if s[index] == \"e\":\n",
    "        print(index)"
   ]
  },
  {
   "cell_type": "code",
   "execution_count": null,
   "metadata": {
    "collapsed": false
   },
   "outputs": [],
   "source": [
    "s = \"Able Academy\"\n",
    "for x, y in enumerate(s):\n",
    "    if y == \"e\":\n",
    "        print(x)"
   ]
  },
  {
   "cell_type": "markdown",
   "metadata": {
    "collapsed": false
   },
   "source": [
    "2) Переверните строку \"Able\""
   ]
  },
  {
   "cell_type": "code",
   "execution_count": null,
   "metadata": {
    "collapsed": false
   },
   "outputs": [],
   "source": [
    "s = \"Able\"\n",
    "# Переверните строку \"Able\"\n",
    "print(s[::-1])"
   ]
  },
  {
   "cell_type": "markdown",
   "metadata": {
    "collapsed": false
   },
   "source": [
    "3) Учитывая строку \"Able\", приведите два метода получения буквы 'l' с использованием индексации."
   ]
  },
  {
   "cell_type": "code",
   "execution_count": null,
   "metadata": {
    "collapsed": false
   },
   "outputs": [],
   "source": [
    "# Распечатайте «l»\n",
    "# Метод 1\n",
    "s = \"Able\"\n",
    "for x, y in enumerate(s):\n",
    "    if y == \"l\":\n",
    "        print(y)\n",
    "\n",
    "for x, y in enumerate(s):\n",
    "    if x == 2:\n",
    "        print(\"с использованием индекса\",y)"
   ]
  },
  {
   "cell_type": "code",
   "execution_count": null,
   "metadata": {
    "collapsed": false
   },
   "outputs": [],
   "source": [
    "# Метод 2\n",
    "s = \"Able\"\n",
    "for i, n in zip(s, range(len(s))):\n",
    "    if i == \"l\" and n == 2:\n",
    "        print(i)"
   ]
  },
  {
   "cell_type": "markdown",
   "metadata": {
    "collapsed": false
   },
   "source": [
    "4) Какова длина строки \"Able\"?"
   ]
  },
  {
   "cell_type": "code",
   "execution_count": null,
   "metadata": {
    "collapsed": false
   },
   "outputs": [],
   "source": [
    "# Код\n",
    "s = \"Able\"\n",
    "print(len(s))"
   ]
  },
  {
   "cell_type": "markdown",
   "metadata": {
    "collapsed": false
   },
   "source": [
    "# СПИСКИ"
   ]
  },
  {
   "cell_type": "markdown",
   "metadata": {
    "collapsed": false
   },
   "source": [
    "5) Постройте этот список [7,7,7] двумя разными способами."
   ]
  },
  {
   "cell_type": "code",
   "execution_count": null,
   "metadata": {
    "collapsed": false
   },
   "outputs": [],
   "source": [
    "# Метод 1\n",
    "my_list = list([7]*3)\n",
    "print(my_list)"
   ]
  },
  {
   "cell_type": "code",
   "execution_count": null,
   "metadata": {
    "collapsed": false
   },
   "outputs": [],
   "source": [
    "# Метод 2\n",
    "my_list = []\n",
    "for i in range(3):\n",
    "    my_list.append(7)\n",
    "print(my_list)\n"
   ]
  },
  {
   "cell_type": "markdown",
   "metadata": {
    "collapsed": false
   },
   "source": [
    "6) Переназначить «Able» в этом вложенном списке, чтобы вместо этого сказать «Academy»:"
   ]
  },
  {
   "cell_type": "code",
   "execution_count": null,
   "metadata": {
    "collapsed": false
   },
   "outputs": [],
   "source": [
    "list_1 = [1,2,[3,4,'Able']]\n",
    "# list_1[2].pop()\n",
    "# list_1[2].insert(2, 'Academy')\n",
    "# print(list_1)\n",
    "# Код\n",
    "for i in range(len(list_1)):\n",
    "    if type(list_1[i]) == list:\n",
    "        for j in range(len(list_1[i])):\n",
    "            #if type(list_1[i][j]) == str: list_1[i][j] = \"Academy\"\n",
    "            if list_1[i][j] == \"Able\":\n",
    "                list_1[i].insert(j, 'Academy')\n",
    "                list_1[i].pop()\n",
    "print(list_1)"
   ]
  },
  {
   "cell_type": "markdown",
   "metadata": {
    "collapsed": false
   },
   "source": [
    "7) Сортировать список ниже:"
   ]
  },
  {
   "cell_type": "code",
   "execution_count": null,
   "metadata": {
    "collapsed": false
   },
   "outputs": [],
   "source": [
    "list_2 = [5,3,4,6,1]\n",
    "# Код\n",
    "list_2.sort()\n",
    "print(list_2)"
   ]
  },
  {
   "cell_type": "markdown",
   "metadata": {
    "collapsed": false
   },
   "source": [
    "# СЛОВАРИ"
   ]
  },
  {
   "cell_type": "markdown",
   "metadata": {
    "collapsed": false
   },
   "source": [
    "8) Используя ключи и индексирование, выводите «Able» из следующих словарей:"
   ]
  },
  {
   "cell_type": "code",
   "execution_count": 3,
   "metadata": {
    "collapsed": false
   },
   "outputs": [
    {
     "name": "stdout",
     "output_type": "stream",
     "text": [
      "(0, 'Able')\n",
      "Able\n",
      "Able\n"
     ]
    }
   ],
   "source": [
    "d = {'simple_key':'Able'}\n",
    "# Код\n",
    "for n in enumerate(d.values()): print(n)\n",
    "for i in d.keys(): print(d[i])\n",
    "\n",
    "print(d['simple_key'])"
   ]
  },
  {
   "cell_type": "code",
   "execution_count": 5,
   "metadata": {
    "collapsed": false
   },
   "outputs": [
    {
     "name": "stdout",
     "output_type": "stream",
     "text": [
      "Able\n"
     ]
    }
   ],
   "source": [
    "d = {'k1':{'k2':'Able'}}\n",
    "# Код\n",
    "# for i, v in zip(d.keys(),d.values()):\n",
    "#     print(i,'=>',v)\n",
    "#     for n,m in v.items():\n",
    "#         print(n,'=>',m)\n",
    "#         print(m)\n",
    "\n",
    "print(d['k1']['k2'])"
   ]
  },
  {
   "cell_type": "code",
   "execution_count": 10,
   "metadata": {
    "collapsed": false
   },
   "outputs": [
    {
     "name": "stdout",
     "output_type": "stream",
     "text": [
      "Able\n"
     ]
    }
   ],
   "source": [
    "d = {'k1':[{'k2':['k3',['Able']]}]}\n",
    "# Код\n",
    "# for key1, value1 in d.items():\n",
    "#     if isinstance(value1, list):\n",
    "#         print(key1,'=>',value1)\n",
    "#         for i in range(len(value1)):\n",
    "#             print(value1[i])\n",
    "#             for key2, value2  in value1[i].items():\n",
    "#                 print(key2,'=>',value2)\n",
    "#                 for j in range(len(value2)):\n",
    "#                     # print(value2[j])\n",
    "#                     if type(value2[j]) == list:\n",
    "#                         print(*value2[j])\n",
    "#                     else:\n",
    "#                         print(value2[j])\n",
    "\n",
    "print(d['k1'][0]['k2'][1][0])"
   ]
  },
  {
   "cell_type": "code",
   "execution_count": null,
   "metadata": {
    "collapsed": false
   },
   "outputs": [],
   "source": [
    "d = {'k1':[1,2,{'k2':['k3',{'k4':[1,2,['Able']]}]}]}\n",
    "# Код\n",
    "# for key1, value1 in d.items():\n",
    "#     if isinstance(value1, list) or isinstance(value1, tuple):\n",
    "#         print(value1)\n",
    "#         for i in range(len(value1)):\n",
    "#             if isinstance(value1[i], list) or isinstance(value1[i], tuple):\n",
    "#                 print(*value1[i])\n",
    "#             elif isinstance(value1[i], dict):\n",
    "#                 print(value1[i])\n",
    "#                 for key2, value2 in value1[i].items():\n",
    "#                     if isinstance(value2, list) or isinstance(value2, tuple):\n",
    "#                         print(value2)\n",
    "#                         for j in range(len(value2)):\n",
    "#                             if isinstance(value2[j], list) or isinstance(value2[j], tuple):\n",
    "#                                 print(*value2[j])\n",
    "#                             elif isinstance(value2[j], dict):\n",
    "#                                 print(value2[j])\n",
    "#                                 for key3, value3 in value2[j].items():\n",
    "#                                     for k in range(len(value3)):\n",
    "#                                         if isinstance(value3[k], list) or isinstance(value3[k], tuple):\n",
    "#                                             print(*value3[k])\n",
    "\n",
    "for key1, value1 in d.items():\n",
    "    for i in range(len(value1)):\n",
    "        if isinstance(value1[i], dict):\n",
    "            for key2, value2 in value1[i].items():\n",
    "                for j in range(len(value2)):\n",
    "                    if isinstance(value2[j], dict):\n",
    "                        for key3, value3 in value2[j].items():\n",
    "                            for k in range(len(value3)):\n",
    "                                if isinstance(value3[k], list):\n",
    "                                    print(*value3[k])"
   ]
  },
  {
   "cell_type": "markdown",
   "metadata": {
    "collapsed": false
   },
   "source": [
    "9) Вы можете отсортировать словарь? Почему или почему нет?"
   ]
  },
  {
   "cell_type": "code",
   "execution_count": null,
   "metadata": {
    "collapsed": false
   },
   "outputs": [],
   "source": [
    "\"\"\" Да можно по умолчанию по ключам, но также можно и по значением \"\"\"\n",
    "D = {'a': 11, 'z': 2, 'n': 14, 'f': 101, 'c': 3}\n",
    "print(sorted(D))\n",
    "print(sorted(D.values()))"
   ]
  },
  {
   "cell_type": "markdown",
   "metadata": {
    "collapsed": false
   },
   "source": [
    "# КОРТЕЖИ"
   ]
  },
  {
   "cell_type": "markdown",
   "metadata": {
    "collapsed": false
   },
   "source": [
    "10) В чем основное различие между кортежами и списками?"
   ]
  },
  {
   "cell_type": "code",
   "execution_count": null,
   "metadata": {
    "collapsed": false
   },
   "outputs": [],
   "source": [
    "# Ответ:\n",
    "# Кортежи занимают меньше места.\n",
    "# Кортежи неизменяемы\n",
    "# Списки же можно изменять\n",
    "# Списки особенно удобны для хранения в них объектов в определенном порядке,особенно если порядок или содержимое нужнобудет изменить."
   ]
  },
  {
   "cell_type": "markdown",
   "metadata": {
    "collapsed": false
   },
   "source": [
    "11) Как вы создаете кортеж? Приведите пример"
   ]
  },
  {
   "cell_type": "code",
   "execution_count": null,
   "metadata": {
    "collapsed": false
   },
   "outputs": [],
   "source": [
    "# Код\n",
    "words = ('fresh','out', 'of', 'ideas')"
   ]
  },
  {
   "cell_type": "markdown",
   "metadata": {
    "collapsed": false
   },
   "source": [
    "# МНОЖЕСТВА"
   ]
  },
  {
   "cell_type": "markdown",
   "metadata": {
    "collapsed": false
   },
   "source": [
    "12) Что уникального во множестве?"
   ]
  },
  {
   "cell_type": "code",
   "execution_count": null,
   "metadata": {
    "collapsed": false
   },
   "outputs": [],
   "source": [
    "Множество  хранит только уникальные элементы.#%% md\n",
    "**Напечатайте свое имя и фамилию**"
   ]
  },
  {
   "cell_type": "markdown",
   "metadata": {
    "collapsed": false
   },
   "source": [
    "# СТРОКИ"
   ]
  },
  {
   "cell_type": "markdown",
   "metadata": {
    "collapsed": false
   },
   "source": [
    "1) Учитывая строку \"Able\", дайте команду index, которая возвращает 'e'. Введите свой код в ячейку ниже:"
   ]
  },
  {
   "cell_type": "code",
   "execution_count": null,
   "metadata": {
    "collapsed": false
   },
   "outputs": [],
   "source": [
    "s = \"Able Academy\"\n",
    "# Распечатайте «е» с использованием индексирование\n",
    "for index in range(len(s)): # 0, 1, 2, 3\n",
    "    if s[index] == \"e\":\n",
    "        print(index)"
   ]
  },
  {
   "cell_type": "code",
   "execution_count": null,
   "metadata": {
    "collapsed": false
   },
   "outputs": [],
   "source": [
    "s = \"Able Academy\"\n",
    "for x, y in enumerate(s):\n",
    "    if y == \"e\":\n",
    "        print(x)"
   ]
  },
  {
   "cell_type": "markdown",
   "metadata": {
    "collapsed": false
   },
   "source": [
    "2) Переверните строку \"Able\""
   ]
  },
  {
   "cell_type": "code",
   "execution_count": null,
   "metadata": {
    "collapsed": false
   },
   "outputs": [],
   "source": [
    "s = \"Able\"\n",
    "# Переверните строку \"Able\"\n",
    "print(s[::-1])"
   ]
  },
  {
   "cell_type": "markdown",
   "metadata": {
    "collapsed": false
   },
   "source": [
    "3) Учитывая строку \"Able\", приведите два метода получения буквы 'l' с использованием индексации."
   ]
  },
  {
   "cell_type": "code",
   "execution_count": null,
   "metadata": {
    "collapsed": false
   },
   "outputs": [],
   "source": [
    "# Распечатайте «l»\n",
    "# Метод 1\n",
    "s = \"Able\"\n",
    "for x, y in enumerate(s):\n",
    "    if y == \"l\":\n",
    "        print(y)\n",
    "\n",
    "for x, y in enumerate(s):\n",
    "    if x == 2:\n",
    "        print(\"с использованием индекса\",y)"
   ]
  },
  {
   "cell_type": "code",
   "execution_count": null,
   "metadata": {
    "collapsed": false
   },
   "outputs": [],
   "source": [
    "# Метод 2\n",
    "s = \"Able\"\n",
    "for i, n in zip(s, range(len(s))):\n",
    "    if i == \"l\" and n == 2:\n",
    "        print(i)"
   ]
  },
  {
   "cell_type": "markdown",
   "metadata": {
    "collapsed": false
   },
   "source": [
    "4) Какова длина строки \"Able\"?"
   ]
  },
  {
   "cell_type": "code",
   "execution_count": null,
   "metadata": {
    "collapsed": false
   },
   "outputs": [],
   "source": [
    "# Код\n",
    "s = \"Able\"\n",
    "print(len(s))"
   ]
  },
  {
   "cell_type": "markdown",
   "metadata": {
    "collapsed": false
   },
   "source": [
    "# СПИСКИ"
   ]
  },
  {
   "cell_type": "markdown",
   "metadata": {
    "collapsed": false
   },
   "source": [
    "5) Постройте этот список [7,7,7] двумя разными способами."
   ]
  },
  {
   "cell_type": "code",
   "execution_count": null,
   "metadata": {
    "collapsed": false
   },
   "outputs": [],
   "source": [
    "# Метод 1\n",
    "my_list = list([7]*3)\n",
    "print(my_list)"
   ]
  },
  {
   "cell_type": "code",
   "execution_count": null,
   "metadata": {
    "collapsed": false
   },
   "outputs": [],
   "source": [
    "# Метод 2\n",
    "my_list = []\n",
    "for i in range(3):\n",
    "    my_list.append(7)\n",
    "print(my_list)\n"
   ]
  },
  {
   "cell_type": "markdown",
   "metadata": {
    "collapsed": false
   },
   "source": [
    "6) Переназначить «Able» в этом вложенном списке, чтобы вместо этого сказать «Academy»:"
   ]
  },
  {
   "cell_type": "code",
   "execution_count": null,
   "metadata": {
    "collapsed": false
   },
   "outputs": [],
   "source": [
    "list_1 = [1,2,[3,4,'Able']]\n",
    "# list_1[2].pop()\n",
    "# list_1[2].insert(2, 'Academy')\n",
    "# print(list_1)\n",
    "# Код\n",
    "for i in range(len(list_1)):\n",
    "    if type(list_1[i]) == list:\n",
    "        for j in range(len(list_1[i])):\n",
    "            #if type(list_1[i][j]) == str: list_1[i][j] = \"Academy\"\n",
    "            if list_1[i][j] == \"Able\":\n",
    "                list_1[i].insert(j, 'Academy')\n",
    "                list_1[i].pop()\n",
    "print(list_1)"
   ]
  },
  {
   "cell_type": "markdown",
   "metadata": {
    "collapsed": false
   },
   "source": [
    "7) Сортировать список ниже:"
   ]
  },
  {
   "cell_type": "code",
   "execution_count": null,
   "metadata": {
    "collapsed": false
   },
   "outputs": [],
   "source": [
    "list_2 = [5,3,4,6,1]\n",
    "# Код\n",
    "list_2.sort()\n",
    "print(list_2)"
   ]
  },
  {
   "cell_type": "markdown",
   "metadata": {
    "collapsed": false
   },
   "source": [
    "# СЛОВАРИ"
   ]
  },
  {
   "cell_type": "markdown",
   "metadata": {
    "collapsed": false
   },
   "source": [
    "8) Используя ключи и индексирование, выводите «Able» из следующих словарей:"
   ]
  },
  {
   "cell_type": "code",
   "execution_count": null,
   "metadata": {
    "collapsed": false
   },
   "outputs": [],
   "source": [
    "d = {'simple_key':'Able'}\n",
    "# Код\n",
    "for n in enumerate(d.values()): print(n)\n",
    "for i in d.keys(): print(d[i])"
   ]
  },
  {
   "cell_type": "code",
   "execution_count": null,
   "metadata": {
    "collapsed": false
   },
   "outputs": [],
   "source": [
    "d = {'k1':{'k2':'Able'}}\n",
    "# Код\n",
    "for i, v in zip(d.keys(),d.values()):\n",
    "    print(i,'=>',v)\n",
    "    for n,m in v.items():\n",
    "        print(n,'=>',m)\n",
    "        print(m)"
   ]
  },
  {
   "cell_type": "code",
   "execution_count": null,
   "metadata": {
    "collapsed": false
   },
   "outputs": [],
   "source": [
    "d = {'k1':[{'k2':['k3',['Able']]}]}\n",
    "# Код\n",
    "for key1, value1 in d.items():\n",
    "    if isinstance(value1, list):\n",
    "        print(key1,'=>',value1)\n",
    "        for i in range(len(value1)):\n",
    "            print(value1[i])\n",
    "            for key2, value2  in value1[i].items():\n",
    "                print(key2,'=>',value2)\n",
    "                for j in range(len(value2)):\n",
    "                    # print(value2[j])\n",
    "                    if type(value2[j]) == list:\n",
    "                        print(*value2[j])\n",
    "                    else:\n",
    "                        print(value2[j])"
   ]
  },
  {
   "cell_type": "code",
   "execution_count": null,
   "metadata": {
    "collapsed": false
   },
   "outputs": [],
   "source": [
    "d = {'k1':[1,2,{'k2':['k3',{'k4':[1,2,['Able']]}]}]}\n",
    "# Код\n",
    "# for key1, value1 in d.items():\n",
    "#     if isinstance(value1, list) or isinstance(value1, tuple):\n",
    "#         print(value1)\n",
    "#         for i in range(len(value1)):\n",
    "#             if isinstance(value1[i], list) or isinstance(value1[i], tuple):\n",
    "#                 print(*value1[i])\n",
    "#             elif isinstance(value1[i], dict):\n",
    "#                 print(value1[i])\n",
    "#                 for key2, value2 in value1[i].items():\n",
    "#                     if isinstance(value2, list) or isinstance(value2, tuple):\n",
    "#                         print(value2)\n",
    "#                         for j in range(len(value2)):\n",
    "#                             if isinstance(value2[j], list) or isinstance(value2[j], tuple):\n",
    "#                                 print(*value2[j])\n",
    "#                             elif isinstance(value2[j], dict):\n",
    "#                                 print(value2[j])\n",
    "#                                 for key3, value3 in value2[j].items():\n",
    "#                                     for k in range(len(value3)):\n",
    "#                                         if isinstance(value3[k], list) or isinstance(value3[k], tuple):\n",
    "#                                             print(*value3[k])\n",
    "\n",
    "for key1, value1 in d.items():\n",
    "    for i in range(len(value1)):\n",
    "        if isinstance(value1[i], dict):\n",
    "            for key2, value2 in value1[i].items():\n",
    "                for j in range(len(value2)):\n",
    "                    if isinstance(value2[j], dict):\n",
    "                        for key3, value3 in value2[j].items():\n",
    "                            for k in range(len(value3)):\n",
    "                                if isinstance(value3[k], list):\n",
    "                                    print(*value3[k])"
   ]
  },
  {
   "cell_type": "markdown",
   "metadata": {
    "collapsed": false
   },
   "source": [
    "9) Вы можете отсортировать словарь? Почему или почему нет?"
   ]
  },
  {
   "cell_type": "code",
   "execution_count": null,
   "metadata": {
    "collapsed": false
   },
   "outputs": [],
   "source": [
    "\"\"\" Да можно по умолчанию по ключам, но также можно и по значением \"\"\"\n",
    "D = {'a': 11, 'z': 2, 'n': 14, 'f': 101, 'c': 3}\n",
    "print(sorted(D))\n",
    "print(sorted(D.values()))"
   ]
  },
  {
   "cell_type": "markdown",
   "metadata": {
    "collapsed": false
   },
   "source": [
    "# КОРТЕЖИ"
   ]
  },
  {
   "cell_type": "markdown",
   "metadata": {
    "collapsed": false
   },
   "source": [
    "10) В чем основное различие между кортежами и списками?"
   ]
  },
  {
   "cell_type": "code",
   "execution_count": null,
   "metadata": {
    "collapsed": false
   },
   "outputs": [],
   "source": [
    "# Ответ:\n",
    "# Кортежи занимают меньше места.\n",
    "# Кортежи неизменяемы\n",
    "# Списки же можно изменять\n",
    "# Списки особенно удобны для хранения в них объектов в определенном порядке,особенно если порядок или содержимое нужнобудет изменить."
   ]
  },
  {
   "cell_type": "markdown",
   "metadata": {
    "collapsed": false
   },
   "source": [
    "11) Как вы создаете кортеж? Приведите пример"
   ]
  },
  {
   "cell_type": "code",
   "execution_count": null,
   "metadata": {
    "collapsed": false
   },
   "outputs": [],
   "source": [
    "# Код\n",
    "words = ('fresh','out', 'of', 'ideas')"
   ]
  },
  {
   "cell_type": "markdown",
   "metadata": {
    "collapsed": false
   },
   "source": [
    "# МНОЖЕСТВА"
   ]
  },
  {
   "cell_type": "markdown",
   "metadata": {
    "collapsed": false
   },
   "source": [
    "12) Что уникального во множестве?"
   ]
  },
  {
   "cell_type": "code",
   "execution_count": null,
   "metadata": {
    "collapsed": false
   },
   "outputs": [],
   "source": [
    "Множество#%% md\n",
    "**Напечатайте свое имя и фамилию**"
   ]
  },
  {
   "cell_type": "markdown",
   "metadata": {
    "collapsed": false
   },
   "source": [
    "# СТРОКИ"
   ]
  },
  {
   "cell_type": "markdown",
   "metadata": {
    "collapsed": false
   },
   "source": [
    "1) Учитывая строку \"Able\", дайте команду index, которая возвращает 'e'. Введите свой код в ячейку ниже:"
   ]
  },
  {
   "cell_type": "code",
   "execution_count": null,
   "metadata": {
    "collapsed": false
   },
   "outputs": [],
   "source": [
    "s = \"Able Academy\"\n",
    "# Распечатайте «е» с использованием индексирование\n",
    "for index in range(len(s)): # 0, 1, 2, 3\n",
    "    if s[index] == \"e\":\n",
    "        print(index)"
   ]
  },
  {
   "cell_type": "code",
   "execution_count": null,
   "metadata": {
    "collapsed": false
   },
   "outputs": [],
   "source": [
    "s = \"Able Academy\"\n",
    "for x, y in enumerate(s):\n",
    "    if y == \"e\":\n",
    "        print(x)"
   ]
  },
  {
   "cell_type": "markdown",
   "metadata": {
    "collapsed": false
   },
   "source": [
    "2) Переверните строку \"Able\""
   ]
  },
  {
   "cell_type": "code",
   "execution_count": null,
   "metadata": {
    "collapsed": false
   },
   "outputs": [],
   "source": [
    "s = \"Able\"\n",
    "# Переверните строку \"Able\"\n",
    "print(s[::-1])"
   ]
  },
  {
   "cell_type": "markdown",
   "metadata": {
    "collapsed": false
   },
   "source": [
    "3) Учитывая строку \"Able\", приведите два метода получения буквы 'l' с использованием индексации."
   ]
  },
  {
   "cell_type": "code",
   "execution_count": null,
   "metadata": {
    "collapsed": false
   },
   "outputs": [],
   "source": [
    "# Распечатайте «l»\n",
    "# Метод 1\n",
    "s = \"Able\"\n",
    "for x, y in enumerate(s):\n",
    "    if y == \"l\":\n",
    "        print(y)\n",
    "\n",
    "for x, y in enumerate(s):\n",
    "    if x == 2:\n",
    "        print(\"с использованием индекса\",y)"
   ]
  },
  {
   "cell_type": "code",
   "execution_count": null,
   "metadata": {
    "collapsed": false
   },
   "outputs": [],
   "source": [
    "# Метод 2\n",
    "s = \"Able\"\n",
    "for i, n in zip(s, range(len(s))):\n",
    "    if i == \"l\" and n == 2:\n",
    "        print(i)"
   ]
  },
  {
   "cell_type": "markdown",
   "metadata": {
    "collapsed": false
   },
   "source": [
    "4) Какова длина строки \"Able\"?"
   ]
  },
  {
   "cell_type": "code",
   "execution_count": null,
   "metadata": {
    "collapsed": false
   },
   "outputs": [],
   "source": [
    "# Код\n",
    "s = \"Able\"\n",
    "print(len(s))"
   ]
  },
  {
   "cell_type": "markdown",
   "metadata": {
    "collapsed": false
   },
   "source": [
    "# СПИСКИ"
   ]
  },
  {
   "cell_type": "markdown",
   "metadata": {
    "collapsed": false
   },
   "source": [
    "5) Постройте этот список [7,7,7] двумя разными способами."
   ]
  },
  {
   "cell_type": "code",
   "execution_count": null,
   "metadata": {
    "collapsed": false
   },
   "outputs": [],
   "source": [
    "# Метод 1\n",
    "my_list = list([7]*3)\n",
    "print(my_list)"
   ]
  },
  {
   "cell_type": "code",
   "execution_count": null,
   "metadata": {
    "collapsed": false
   },
   "outputs": [],
   "source": [
    "# Метод 2\n",
    "my_list = []\n",
    "for i in range(3):\n",
    "    my_list.append(7)\n",
    "print(my_list)\n"
   ]
  },
  {
   "cell_type": "markdown",
   "metadata": {
    "collapsed": false
   },
   "source": [
    "6) Переназначить «Able» в этом вложенном списке, чтобы вместо этого сказать «Academy»:"
   ]
  },
  {
   "cell_type": "code",
   "execution_count": null,
   "metadata": {
    "collapsed": false
   },
   "outputs": [],
   "source": [
    "list_1 = [1,2,[3,4,'Able']]\n",
    "# list_1[2].pop()\n",
    "# list_1[2].insert(2, 'Academy')\n",
    "# print(list_1)\n",
    "# Код\n",
    "for i in range(len(list_1)):\n",
    "    if type(list_1[i]) == list:\n",
    "        for j in range(len(list_1[i])):\n",
    "            #if type(list_1[i][j]) == str: list_1[i][j] = \"Academy\"\n",
    "            if list_1[i][j] == \"Able\":\n",
    "                list_1[i].insert(j, 'Academy')\n",
    "                list_1[i].pop()\n",
    "print(list_1)"
   ]
  },
  {
   "cell_type": "markdown",
   "metadata": {
    "collapsed": false
   },
   "source": [
    "7) Сортировать список ниже:"
   ]
  },
  {
   "cell_type": "code",
   "execution_count": null,
   "metadata": {
    "collapsed": false
   },
   "outputs": [],
   "source": [
    "list_2 = [5,3,4,6,1]\n",
    "# Код\n",
    "list_2.sort()\n",
    "print(list_2)"
   ]
  },
  {
   "cell_type": "markdown",
   "metadata": {
    "collapsed": false
   },
   "source": [
    "# СЛОВАРИ"
   ]
  },
  {
   "cell_type": "markdown",
   "metadata": {
    "collapsed": false
   },
   "source": [
    "8) Используя ключи и индексирование, выводите «Able» из следующих словарей:"
   ]
  },
  {
   "cell_type": "code",
   "execution_count": null,
   "metadata": {
    "collapsed": false
   },
   "outputs": [],
   "source": [
    "d = {'simple_key':'Able'}\n",
    "# Код\n",
    "for n in enumerate(d.values()): print(n)\n",
    "for i in d.keys(): print(d[i])"
   ]
  },
  {
   "cell_type": "code",
   "execution_count": null,
   "metadata": {
    "collapsed": false
   },
   "outputs": [],
   "source": [
    "d = {'k1':{'k2':'Able'}}\n",
    "# Код\n",
    "for i, v in zip(d.keys(),d.values()):\n",
    "    print(i,'=>',v)\n",
    "    for n,m in v.items():\n",
    "        print(n,'=>',m)\n",
    "        print(m)"
   ]
  },
  {
   "cell_type": "code",
   "execution_count": null,
   "metadata": {
    "collapsed": false
   },
   "outputs": [],
   "source": [
    "d = {'k1':[{'k2':['k3',['Able']]}]}\n",
    "# Код\n",
    "for key1, value1 in d.items():\n",
    "    if isinstance(value1, list):\n",
    "        print(key1,'=>',value1)\n",
    "        for i in range(len(value1)):\n",
    "            print(value1[i])\n",
    "            for key2, value2  in value1[i].items():\n",
    "                print(key2,'=>',value2)\n",
    "                for j in range(len(value2)):\n",
    "                    # print(value2[j])\n",
    "                    if type(value2[j]) == list:\n",
    "                        print(*value2[j])\n",
    "                    else:\n",
    "                        print(value2[j])"
   ]
  },
  {
   "cell_type": "code",
   "execution_count": null,
   "metadata": {
    "collapsed": false
   },
   "outputs": [],
   "source": [
    "d = {'k1':[1,2,{'k2':['k3',{'k4':[1,2,['Able']]}]}]}\n",
    "# Код\n",
    "# for key1, value1 in d.items():\n",
    "#     if isinstance(value1, list) or isinstance(value1, tuple):\n",
    "#         print(value1)\n",
    "#         for i in range(len(value1)):\n",
    "#             if isinstance(value1[i], list) or isinstance(value1[i], tuple):\n",
    "#                 print(*value1[i])\n",
    "#             elif isinstance(value1[i], dict):\n",
    "#                 print(value1[i])\n",
    "#                 for key2, value2 in value1[i].items():\n",
    "#                     if isinstance(value2, list) or isinstance(value2, tuple):\n",
    "#                         print(value2)\n",
    "#                         for j in range(len(value2)):\n",
    "#                             if isinstance(value2[j], list) or isinstance(value2[j], tuple):\n",
    "#                                 print(*value2[j])\n",
    "#                             elif isinstance(value2[j], dict):\n",
    "#                                 print(value2[j])\n",
    "#                                 for key3, value3 in value2[j].items():\n",
    "#                                     for k in range(len(value3)):\n",
    "#                                         if isinstance(value3[k], list) or isinstance(value3[k], tuple):\n",
    "#                                             print(*value3[k])\n",
    "\n",
    "for key1, value1 in d.items():\n",
    "    for i in range(len(value1)):\n",
    "        if isinstance(value1[i], dict):\n",
    "            for key2, value2 in value1[i].items():\n",
    "                for j in range(len(value2)):\n",
    "                    if isinstance(value2[j], dict):\n",
    "                        for key3, value3 in value2[j].items():\n",
    "                            for k in range(len(value3)):\n",
    "                                if isinstance(value3[k], list):\n",
    "                                    print(*value3[k])"
   ]
  },
  {
   "cell_type": "markdown",
   "metadata": {
    "collapsed": false
   },
   "source": [
    "9) Вы можете отсортировать словарь? Почему или почему нет?"
   ]
  },
  {
   "cell_type": "code",
   "execution_count": null,
   "metadata": {
    "collapsed": false
   },
   "outputs": [],
   "source": [
    "\"\"\" Да можно по умолчанию по ключам, но также можно и по значением \"\"\"\n",
    "D = {'a': 11, 'z': 2, 'n': 14, 'f': 101, 'c': 3}\n",
    "print(sorted(D))\n",
    "print(sorted(D.values()))"
   ]
  },
  {
   "cell_type": "markdown",
   "metadata": {
    "collapsed": false
   },
   "source": [
    "# КОРТЕЖИ"
   ]
  },
  {
   "cell_type": "markdown",
   "metadata": {
    "collapsed": false
   },
   "source": [
    "10) В чем основное различие между кортежами и списками?"
   ]
  },
  {
   "cell_type": "code",
   "execution_count": null,
   "metadata": {
    "collapsed": false
   },
   "outputs": [],
   "source": [
    "# Ответ:\n",
    "# Кортежи занимают меньше места.\n",
    "# Кортежи неизменяемы\n",
    "# Списки же можно изменять\n",
    "# Списки особенно удобны для хранения в них объектов в определенном порядке,особенно если порядок или содержимое нужнобудет изменить."
   ]
  },
  {
   "cell_type": "markdown",
   "metadata": {
    "collapsed": false
   },
   "source": [
    "11) Как вы создаете кортеж? Приведите пример"
   ]
  },
  {
   "cell_type": "code",
   "execution_count": null,
   "metadata": {
    "collapsed": false
   },
   "outputs": [],
   "source": [
    "# Код\n",
    "words = ('fresh','out', 'of', 'ideas')"
   ]
  },
  {
   "cell_type": "markdown",
   "metadata": {
    "collapsed": false
   },
   "source": [
    "# МНОЖЕСТВА"
   ]
  },
  {
   "cell_type": "markdown",
   "metadata": {
    "collapsed": false
   },
   "source": [
    "12) Что уникального во множестве?"
   ]
  },
  {
   "cell_type": "code",
   "execution_count": null,
   "metadata": {
    "collapsed": false
   },
   "outputs": [],
   "source": [
    "# Множество  хранит только уникальные элементы."
   ]
  },
  {
   "cell_type": "markdown",
   "metadata": {
    "collapsed": false
   },
   "source": [
    "13) Используйте набор, чтобы найти уникальные значения из списка ниже:"
   ]
  },
  {
   "cell_type": "code",
   "execution_count": 4,
   "metadata": {
    "collapsed": false
   },
   "outputs": [
    {
     "name": "stdout",
     "output_type": "stream",
     "text": [
      "[1, 2, 3, 4, 11, 22, 33]\n"
     ]
    }
   ],
   "source": [
    "list_3 = [1,2,2,33,4,4,11,22,3,3,2]\n",
    "list_3 = list(set(list_3))\n",
    "list_3.sort()\n",
    "print(list_3)"
   ]
  },
  {
   "cell_type": "markdown",
   "metadata": {
    "collapsed": false
   },
   "source": [
    "13) Используйте набор, чтобы найти уникальные значения из списка ниже:"
   ]
  },
  {
   "cell_type": "code",
   "execution_count": null,
   "metadata": {
    "collapsed": false
   },
   "outputs": [],
   "source": [
    "list_3 = [1,2,2,33,4,4,11,22,3,3,2]\n",
    "list_3 = list(set(list_3))\n",
    "list_3.sort()\n",
    "print(list_3)"
   ]
  },
  {
   "cell_type": "markdown",
   "metadata": {
    "collapsed": false
   },
   "source": [
    "13) Используйте набор, чтобы найти уникальные значения из списка ниже:"
   ]
  },
  {
   "cell_type": "code",
   "execution_count": null,
   "metadata": {
    "collapsed": false
   },
   "outputs": [],
   "source": [
    "list_3 = [1,2,2,33,4,4,11,22,3,3,2]\n",
    "list_3 = list(set(list_3))\n",
    "list_3.sort()\n",
    "print(list_3)"
   ]
  },
  {
   "cell_type": "markdown",
   "metadata": {},
   "source": [
    "13) Используйте набор, чтобы найти уникальные значения из списка ниже:"
   ]
  },
  {
   "cell_type": "code",
   "execution_count": 73,
   "metadata": {},
   "outputs": [
    {
     "name": "stdout",
     "output_type": "stream",
     "text": [
      "[1, 2, 3, 4, 11, 22, 33]\n"
     ]
    }
   ],
   "source": [
    "list_3 = [1,2,2,33,4,4,11,22,3,3,2]\n",
    "list_3 = list(set(list_3))\n",
    "list_3.sort()\n",
    "print(list_3)\n"
   ]
  }
 ],
 "metadata": {
  "kernelspec": {
   "display_name": "Python 3",
   "language": "python",
   "name": "python3"
  },
  "language_info": {
   "codemirror_mode": {
    "name": "ipython",
    "version": 3
   },
   "file_extension": ".py",
   "mimetype": "text/x-python",
   "name": "python",
   "nbconvert_exporter": "python",
   "pygments_lexer": "ipython3",
   "version": "3.6.10"
  }
 },
 "nbformat": 4,
 "nbformat_minor": 2
}
