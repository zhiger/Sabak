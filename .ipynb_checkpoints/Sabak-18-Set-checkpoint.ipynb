{
 "cells": [
  {
   "cell_type": "code",
   "execution_count": 5,
   "metadata": {
    "collapsed": true
   },
   "outputs": [
    {
     "name": "stdout",
     "output_type": "stream",
     "text": [
      "{'a', 'r', 'b', 'd', 'c'}\n",
      "{'a', 'r', 'b', 10, 'd', 'c'}\n",
      "frozenset({'a', 'r', 'b', 'd', 'c'})\n"
     ]
    },
    {
     "ename": "AttributeError",
     "evalue": "'frozenset' object has no attribute 'add'",
     "output_type": "error",
     "traceback": [
      "\u001b[1;31m---------------------------------------------------------------------------\u001b[0m",
      "\u001b[1;31mAttributeError\u001b[0m                            Traceback (most recent call last)",
      "Cell \u001b[1;32mIn[5], line 15\u001b[0m\n\u001b[0;32m     13\u001b[0m a \u001b[38;5;241m=\u001b[39m \u001b[38;5;28mfrozenset\u001b[39m(line)\n\u001b[0;32m     14\u001b[0m \u001b[38;5;28mprint\u001b[39m(a)\n\u001b[1;32m---> 15\u001b[0m \u001b[43ma\u001b[49m\u001b[38;5;241;43m.\u001b[39;49m\u001b[43madd\u001b[49m(\u001b[38;5;241m10\u001b[39m)\n\u001b[0;32m     16\u001b[0m \u001b[38;5;28mprint\u001b[39m(a)\n",
      "\u001b[1;31mAttributeError\u001b[0m: 'frozenset' object has no attribute 'add'"
     ]
    }
   ],
   "source": [
    "\"\"\" Тип set является ИЗМЕНЯЕМЫМ множеством \"\"\"\n",
    "\n",
    "# При преобразовании последовательности в\n",
    "# множество удаляются дубликаты элементов\n",
    "line = 'abracadabra'\n",
    "a = set(line)\n",
    "print(a)\n",
    "a.add(10)\n",
    "print(a)\n",
    "\n",
    "\"\"\" Тип frozenset является НЕизменяемым множеством \"\"\"\n",
    "line = 'abracadabra'\n",
    "a = frozenset(line)\n",
    "print(a)\n",
    "a.add(10)\n",
    "print(a)\n",
    "\n"
   ]
  },
  {
   "cell_type": "code",
   "execution_count": null,
   "metadata": {
    "collapsed": false
   },
   "outputs": [],
   "source": []
  }
 ],
 "metadata": {
  "kernelspec": {
   "display_name": "Python 3",
   "language": "python",
   "name": "python3"
  },
  "language_info": {
   "codemirror_mode": {
    "name": "ipython",
    "version": 2
   },
   "file_extension": ".py",
   "mimetype": "text/x-python",
   "name": "python",
   "nbconvert_exporter": "python",
   "pygments_lexer": "ipython2",
   "version": "2.7.6"
  }
 },
 "nbformat": 4,
 "nbformat_minor": 0
}
