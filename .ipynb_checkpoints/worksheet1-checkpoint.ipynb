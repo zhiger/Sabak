{
 "cells": [
  {
   "cell_type": "markdown",
   "metadata": {},
   "source": [
    "**1) Для заданного целого числа n выполнить следующие условные действия:**\n",
    "\n",
    "Если n нечетно, выведите Astana\n",
    "\n",
    "Если n чётно и находится в диапазоне от 2 до 5, выведите Алматы\n",
    "\n",
    "Если n чётно и находится в диапазоне от 6 до 20 включительно, выведите Astana\n",
    "\n",
    "Если n чётно и больше 20, выведите Алматы"
   ]
  },
  {
   "cell_type": "code",
   "execution_count": null,
   "metadata": {
    "pycharm": {
     "is_executing": true
    }
   },
   "outputs": [],
   "source": [
    "n = int(input(\"Введите число от 0 до 20\"))\n",
    "if n % 2 != 0: print(\"Astana1\")\n",
    "elif n % 2 ==0 and 2 <= n <=5: print(\"Алматы1\")\n",
    "elif n % 2 ==0 and 6 <= n <=20: print(\"Astana2\")\n",
    "else:print(\"Алматы2\")"
   ]
  },
  {
   "cell_type": "markdown",
   "metadata": {},
   "source": [
    "**2) Дано целое число n. Для всех неотрицательных целых чисел i <n, выведите квадрат числа i.**"
   ]
  },
  {
   "cell_type": "code",
   "execution_count": 1,
   "metadata": {},
   "outputs": [
    {
     "name": "stdout",
     "output_type": "stream",
     "text": [
      "0 1 4 9 16 "
     ]
    }
   ],
   "source": [
    "# n,i = int(input(\"Введите целое число \")),0\n",
    "# if n > i : print(n**2)\n",
    "# else: print(\"Введите неотрицательных целое число \")\n",
    "n = int(input('Введите целое число:'))\n",
    "for i in range(-5,n):\n",
    "    if i >= 0 and i < n:print(i**2, end=' ')"
   ]
  },
  {
   "cell_type": "markdown",
   "metadata": {},
   "source": [
    "**3) Дано целое число n.**\n",
    "\n",
    "Не используя строковые методы, попробуйте напечатать следующее:\n",
    "\n",
    "<code>123.....n</code>\n",
    "\n",
    "Обратите внимание, что <code> ... </code> представляет значения между ними."
   ]
  },
  {
   "cell_type": "code",
   "execution_count": 20,
   "metadata": {},
   "outputs": [
    {
     "name": "stdout",
     "output_type": "stream",
     "text": [
      "<code> <class 'generator'> </code>\n"
     ]
    }
   ],
   "source": [
    "n = 10\n",
    "print(\"<code> \",end=\"\")\n",
    "for i in range(1,n+1):\n",
    "    print(i,end=\"\")\n",
    "print(\"</code>\")\n",
    "# print(\"<code>\", type((i for i in range(1,11) )), \"</code>\")"
   ]
  },
  {
   "cell_type": "markdown",
   "metadata": {},
   "source": [
    "**4) Какова сумма первых 10 натуральных чисел?**"
   ]
  },
  {
   "cell_type": "code",
   "execution_count": 57,
   "metadata": {},
   "outputs": [
    {
     "name": "stdout",
     "output_type": "stream",
     "text": [
      "55\n"
     ]
    }
   ],
   "source": [
    "y = 10\n",
    "n = 0\n",
    "for i in range(y+1):\n",
    "    n +=i\n",
    "print(n)"
   ]
  },
  {
   "cell_type": "markdown",
   "metadata": {},
   "source": [
    "**5) Напишите программу на Python, которая принимает радиус круга от пользователя и вычисляет площадь.**\n",
    "\n",
    "**Tip**: <code>from math import pi</code>"
   ]
  },
  {
   "cell_type": "code",
   "execution_count": 66,
   "metadata": {},
   "outputs": [
    {
     "name": "stdout",
     "output_type": "stream",
     "text": [
      "площадь круга: 78 см2\n"
     ]
    }
   ],
   "source": [
    "from math import pi\n",
    "r = int(input(\"принимает радиус круга\"))\n",
    "print(\"площадь круга:\",int(pi*(r**2)),\"см2\")"
   ]
  },
  {
   "cell_type": "markdown",
   "metadata": {},
   "source": [
    "**6)  Напишите программу на Python, чтобы получить объем сферы с радиусом 7.**"
   ]
  },
  {
   "cell_type": "code",
   "execution_count": 68,
   "metadata": {},
   "outputs": [
    {
     "name": "stdout",
     "output_type": "stream",
     "text": [
      "объем сферы: 523 см3\n",
      "объем сферы: 523 см3\n"
     ]
    }
   ],
   "source": [
    "from math import pi\n",
    "radius = 7\n",
    "print(\"объем сферы:\",int((4*pi*(r**3))/3),\"см3\")"
   ]
  },
  {
   "cell_type": "markdown",
   "metadata": {},
   "source": [
    "**7) Напишите программу на Python, которая принимает целое число n и вычисляет значение n + nn + nnn. (nn-двузначное число)**"
   ]
  },
  {
   "cell_type": "code",
   "execution_count": 3,
   "metadata": {},
   "outputs": [
    {
     "name": "stdout",
     "output_type": "stream",
     "text": [
      "56 + 5656 + 565656 = 571368\n"
     ]
    }
   ],
   "source": [
    "n = input()\n",
    "e = n\n",
    "s = n+n\n",
    "p = n + n + n\n",
    "print(int(n),'+',int(s),'+',int(p),'=',int(n)+int(s)+int(p))\n",
    "\n"
   ]
  },
  {
   "cell_type": "markdown",
   "metadata": {},
   "source": [
    "**8) Напишите программу на Python, которая примет основание и высоту треугольника и вычислит площадь.**"
   ]
  },
  {
   "cell_type": "code",
   "execution_count": 77,
   "metadata": {},
   "outputs": [
    {
     "name": "stdout",
     "output_type": "stream",
     "text": [
      "площадь треугольника: 3.0 см2\n"
     ]
    }
   ],
   "source": [
    "a = int(input(\"примет основание треугольника :\"))\n",
    "h = int(input(\"примет высоту треугольника :\"))\n",
    "print(\"площадь треугольника:\", 0.5 * a * h, \"см2\")"
   ]
  },
  {
   "cell_type": "markdown",
   "metadata": {},
   "source": [
    "**9) Напишите программу на Python для преобразования высоты (в футах и дюймах) в сантиметры.**"
   ]
  },
  {
   "cell_type": "code",
   "execution_count": 83,
   "metadata": {},
   "outputs": [
    {
     "name": "stdout",
     "output_type": "stream",
     "text": [
      "Один дюйм равен 0.0 сантиметру:\n",
      "Один дюйм равен 0.06561679790026247 сантиметру:\n"
     ]
    }
   ],
   "source": [
    "feet = int(input(\"Высота в футах\"))\n",
    "inches = int(input(\"Высота в дюймах\"))\n",
    "print(\"Один дюйм равен\",(inches/2.54 ),\"сантиметру:\")\n",
    "print(\"Один дюйм равен\",(feet/30.48),\"сантиметру:\")"
   ]
  },
  {
   "cell_type": "markdown",
   "metadata": {},
   "source": [
    "**10) Напишите программу на Python для вычисления расстояния между точками (x1, y1) и (x2, y2).**"
   ]
  },
  {
   "cell_type": "code",
   "execution_count": 100,
   "metadata": {},
   "outputs": [
    {
     "name": "stdout",
     "output_type": "stream",
     "text": [
      "1.4142135623730951\n"
     ]
    }
   ],
   "source": [
    "x1, x2 = 2, 3\n",
    "y1, y2 = 4, 5\n",
    "\n",
    "s = ((x2-x1)**2 + (y2-y1)**2)**0.5\n",
    "print(s)"
   ]
  },
  {
   "cell_type": "markdown",
   "metadata": {},
   "source": [
    "**11) Напишите программу на Python для вычисления гипотенузы прямоугольного треугольника.**"
   ]
  },
  {
   "cell_type": "code",
   "execution_count": 82,
   "metadata": {},
   "outputs": [
    {
     "name": "stdout",
     "output_type": "stream",
     "text": [
      "5.0\n"
     ]
    }
   ],
   "source": [
    "a,b = 3,4\n",
    "c = ((a**2) + (b**2))**0.5\n",
    "print(c)"
   ]
  },
  {
   "cell_type": "markdown",
   "metadata": {},
   "source": [
    "**12) Сколько натуральных чисел не больше 100 делиться на 7 и на 2?**"
   ]
  },
  {
   "cell_type": "code",
   "execution_count": 99,
   "metadata": {},
   "outputs": [
    {
     "name": "stdout",
     "output_type": "stream",
     "text": [
      "14 28 42 56 70 84 98 \n",
      "количество чисел, делящихся на 7 и на 2: 7\n"
     ]
    }
   ],
   "source": [
    "sum = 0\n",
    "last = 0\n",
    "for i in range(1,100):\n",
    "    if i%7==0 and i%2==0:\n",
    "        sum +=1\n",
    "        last = i\n",
    "        print(last, end=\" \")\n",
    "print(\"\\nколичество чисел, делящихся на 7 и на 2:\",sum)\n"
   ]
  },
  {
   "cell_type": "markdown",
   "metadata": {},
   "source": [
    "# Прекрасная работа!"
   ]
  }
 ],
 "metadata": {
  "kernelspec": {
   "display_name": "Python 3",
   "language": "python",
   "name": "python3"
  },
  "language_info": {
   "codemirror_mode": {
    "name": "ipython",
    "version": 3
   },
   "file_extension": ".py",
   "mimetype": "text/x-python",
   "name": "python",
   "nbconvert_exporter": "python",
   "pygments_lexer": "ipython3",
   "version": "3.7.3"
  }
 },
 "nbformat": 4,
 "nbformat_minor": 2
}
